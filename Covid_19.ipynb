{
  "nbformat": 4,
  "nbformat_minor": 0,
  "metadata": {
    "colab": {
      "name": "Covid-19.ipynb",
      "provenance": [],
      "collapsed_sections": [],
      "toc_visible": true
    },
    "kernelspec": {
      "name": "python3",
      "display_name": "Python 3"
    },
    "accelerator": "GPU"
  },
  "cells": [
    {
      "cell_type": "markdown",
      "metadata": {
        "id": "9xSVgxrFTtAT",
        "colab_type": "text"
      },
      "source": [
        "**Import Necessary Modules**"
      ]
    },
    {
      "cell_type": "code",
      "metadata": {
        "id": "0T1z8vTSgb3Z",
        "colab_type": "code",
        "outputId": "bc10a9a9-8a17-43bc-c746-a21e09f1871c",
        "colab": {
          "base_uri": "https://localhost:8080/",
          "height": 122
        }
      },
      "source": [
        "#Import tensorflow and other necessary modules for Classification of Images\n",
        "%tensorflow_version 1.14\n",
        "import tensorflow as tf\n",
        "import warnings\n",
        "warnings.filterwarnings('ignore')\n",
        "\n",
        "import numpy as np\n",
        "import pandas as pd\n",
        "import matplotlib.pyplot as plt\n",
        "import matplotlib.image as mpimg\n",
        "%matplotlib inline\n",
        "\n",
        "from keras.models import Sequential, Model, load_model\n",
        "from keras.layers import *\n",
        "from keras.optimizers import Adam\n",
        "from keras.preprocessing.image import ImageDataGenerator\n",
        "from keras.applications.inception_v3 import InceptionV3\n",
        "from keras.callbacks import EarlyStopping\n",
        "from keras.utils import to_categorical"
      ],
      "execution_count": 1,
      "outputs": [
        {
          "output_type": "stream",
          "text": [
            "`%tensorflow_version` only switches the major version: 1.x or 2.x.\n",
            "You set: `1.14`. This will be interpreted as: `1.x`.\n",
            "\n",
            "\n",
            "TensorFlow 1.x selected.\n"
          ],
          "name": "stdout"
        },
        {
          "output_type": "stream",
          "text": [
            "Using TensorFlow backend.\n"
          ],
          "name": "stderr"
        }
      ]
    },
    {
      "cell_type": "markdown",
      "metadata": {
        "id": "eBSZ3JRUC0T-",
        "colab_type": "text"
      },
      "source": [
        "**Mount your Google drive to Google Colab**"
      ]
    },
    {
      "cell_type": "code",
      "metadata": {
        "id": "c6mFS5gJgfGF",
        "colab_type": "code",
        "outputId": "a34eb6fb-9ab1-4112-ad24-70caacd3ccd3",
        "colab": {
          "base_uri": "https://localhost:8080/",
          "height": 34
        }
      },
      "source": [
        "from keras.preprocessing.image import ImageDataGenerator\n",
        "\n",
        "from google.colab import drive\n",
        "drive.mount('/content/drive')"
      ],
      "execution_count": 2,
      "outputs": [
        {
          "output_type": "stream",
          "text": [
            "Drive already mounted at /content/drive; to attempt to forcibly remount, call drive.mount(\"/content/drive\", force_remount=True).\n"
          ],
          "name": "stdout"
        }
      ]
    },
    {
      "cell_type": "markdown",
      "metadata": {
        "id": "gZ-oniE4HRgY",
        "colab_type": "text"
      },
      "source": [
        "# **Image Data Generator**       \n",
        " \n",
        "1.   The Image Data Generator class is very useful in Image Classification tasks. It is used for generating batches of images with data augmentation and the data will be looped over in batches.Data Augmentation is a technique to artificially create new training data from existing training data.\n",
        "2.   Image Data Augmentation is perhaps the most well known type of data augmentation and involves creating transformed version of images in the training data set that belong to the same class as the original image. Transforms include a range of operations from the field of image manipulation, such as shifts, flips, zooms etc\n",
        "\n",
        "\n",
        "\n",
        "\n",
        "\n",
        "\n"
      ]
    },
    {
      "cell_type": "markdown",
      "metadata": {
        "id": "oqyEbERrL45l",
        "colab_type": "text"
      },
      "source": [
        "# **Gathering Data**\n",
        "\n",
        "1.   Normal Chest X-Ray images were taken from Kaggle X-Ray images dataset and almost 78 images were taken belonging to this category\n",
        "2.   Corona Virus infected images were taken from this repository https://github.com/ieee8023/covid-chestxray-dataset"
      ]
    },
    {
      "cell_type": "code",
      "metadata": {
        "id": "bNYHrSnwHAzP",
        "colab_type": "code",
        "colab": {}
      },
      "source": [
        "#Before executing this block, upload your folder to google drive which contains sub folders of Normal Chest CT Scan Images and Corona Virus Infected CT Scan images\n",
        "#set the root directory to Folder which contains sub folders belonging to two different classes\n",
        "#First Class contains CT scan chest images of humans who does not have any infection\n",
        "#Second Class contains CT scan chest images of humans infected with corona virus\n",
        "train_path='/content/drive/My Drive/Corona' \n",
        "datagen = ImageDataGenerator(rescale=1./255, rotation_range=40,\n",
        "                            width_shift_range=0.2,\n",
        "                            height_shift_range=0.2,\n",
        "                            zoom_range=0.2, \n",
        "                            shear_range=0.2, \n",
        "                            horizontal_flip=True, \n",
        "                            validation_split=0.2)"
      ],
      "execution_count": 0,
      "outputs": []
    },
    {
      "cell_type": "code",
      "metadata": {
        "id": "k-YegcgAiHL8",
        "colab_type": "code",
        "outputId": "e4903c6a-e5d7-4cdc-bbab-6764eaca47b4",
        "colab": {
          "base_uri": "https://localhost:8080/",
          "height": 34
        }
      },
      "source": [
        "#Keras has Image Data Generator class three methods flow(), flow_from_directory() and flow_from_dataframe() to read images from big numpy array and folders containing images\n",
        "#flow_from_directory() is used to read images belonginf to respective class from subfolders contained in the root directory  \n",
        "#Generate training set images based on batch size\n",
        "train_generator = datagen.flow_from_directory(directory=train_path, \n",
        "                                                    batch_size=16, \n",
        "                                                    class_mode='categorical', \n",
        "                                                    shuffle=True, \n",
        "                                                    subset='training',\n",
        "                                                    target_size=(299,299))"
      ],
      "execution_count": 4,
      "outputs": [
        {
          "output_type": "stream",
          "text": [
            "Found 126 images belonging to 2 classes.\n"
          ],
          "name": "stdout"
        }
      ]
    },
    {
      "cell_type": "code",
      "metadata": {
        "id": "uCxAPzl3itRH",
        "colab_type": "code",
        "outputId": "d787979d-5ca9-4cb8-d276-5f7dfd7b348e",
        "colab": {
          "base_uri": "https://localhost:8080/",
          "height": 34
        }
      },
      "source": [
        "#Generate validation set images based on batch size\n",
        "val_generator = datagen.flow_from_directory(directory=train_path, \n",
        "                                                    batch_size=16, \n",
        "                                                    class_mode='categorical', \n",
        "                                                    shuffle=True, \n",
        "                                                    subset='validation',\n",
        "                                                    target_size=(299,299))"
      ],
      "execution_count": 5,
      "outputs": [
        {
          "output_type": "stream",
          "text": [
            "Found 30 images belonging to 2 classes.\n"
          ],
          "name": "stdout"
        }
      ]
    },
    {
      "cell_type": "code",
      "metadata": {
        "id": "k02PWizyigFT",
        "colab_type": "code",
        "colab": {
          "base_uri": "https://localhost:8080/",
          "height": 34
        },
        "outputId": "cc2d9cac-ac3c-4571-f7be-1d93631489b8"
      },
      "source": [
        "import os\n",
        "classes=os.listdir(train_path)\n",
        "print(classes)"
      ],
      "execution_count": 6,
      "outputs": [
        {
          "output_type": "stream",
          "text": [
            "['Corona Positive', 'Normal Chest']\n"
          ],
          "name": "stdout"
        }
      ]
    },
    {
      "cell_type": "code",
      "metadata": {
        "id": "4AacBKzBk0ti",
        "colab_type": "code",
        "colab": {}
      },
      "source": [
        "class_map={\n",
        "    'Corona Positive':'Covid 19 Infected',\n",
        "    'Normal Chest':'Not Infected with Covid 19'\n",
        "}"
      ],
      "execution_count": 0,
      "outputs": []
    },
    {
      "cell_type": "code",
      "metadata": {
        "id": "XrxdoYPAkVY_",
        "colab_type": "code",
        "colab": {
          "base_uri": "https://localhost:8080/",
          "height": 195
        },
        "outputId": "ca981ee6-948a-4705-90b3-3bdd1b60949f"
      },
      "source": [
        "#Plot a sample image from each category\n",
        "plt.figure(figsize=(20,6))\n",
        "for ix,i in enumerate(classes):\n",
        "    f = os.listdir(os.path.join(train_path,i))[0]\n",
        "    img = mpimg.imread(os.path.join(train_path,i,f))\n",
        "    plt.subplot(2,5,ix+1)\n",
        "    plt.imshow(img)\n",
        "    plt.axis('off')\n",
        "    plt.title(class_map[i])"
      ],
      "execution_count": 8,
      "outputs": [
        {
          "output_type": "display_data",
          "data": {
            "image/png": "[encoded data removed]",
            "text/plain": [
              "<Figure size 1440x432 with 2 Axes>"
            ]
          },
          "metadata": {
            "tags": []
          }
        }
      ]
    },
    {
      "cell_type": "code",
      "metadata": {
        "id": "LgrrGKOyjS06",
        "colab_type": "code",
        "colab": {}
      },
      "source": [
        "#Build a Vanilla CNN Model\n",
        "def image_classifier(nb_classes):\n",
        "    model = Sequential()\n",
        "\n",
        "    model.add(Conv2D(filters=64, kernel_size=(3, 3), input_shape=(299, 299, 3),padding='valid'))\n",
        "    model.add(BatchNormalization())\n",
        "    model.add(Activation('relu'))\n",
        "    model.add(MaxPooling2D(pool_size=(2,2)))\n",
        "\n",
        "    #model.add(Conv2D(filters=64, kernel_size=(5, 5),padding='valid'))\n",
        "    #model.add(BatchNormalization())\n",
        "    #model.add(Activation('relu'))\n",
        "    #model.add(MaxPooling2D(pool_size=(2,2)))\n",
        "    model.add(Flatten())\n",
        "    model.add(Dropout(0.2))\n",
        "    model.add(Dense(64, init='uniform', activation='relu'))\n",
        "\n",
        "    model.add(Dense(nb_classes, activation='sigmoid'))\n",
        "    \n",
        "    return(model)"
      ],
      "execution_count": 0,
      "outputs": []
    },
    {
      "cell_type": "code",
      "metadata": {
        "id": "vN2-3vF2jZwA",
        "colab_type": "code",
        "colab": {
          "base_uri": "https://localhost:8080/",
          "height": 635
        },
        "outputId": "af69d346-d161-4d52-b707-fcfb6d757f83"
      },
      "source": [
        "#Optimizer Adam is used because of Adaptive learning rate\n",
        "model = image_classifier(nb_classes=2)\n",
        "model.compile(loss='binary_crossentropy',metrics=['accuracy'],optimizer='adam')"
      ],
      "execution_count": 10,
      "outputs": [
        {
          "output_type": "stream",
          "text": [
            "WARNING:tensorflow:From /usr/local/lib/python3.6/dist-packages/keras/backend/tensorflow_backend.py:66: The name tf.get_default_graph is deprecated. Please use tf.compat.v1.get_default_graph instead.\n",
            "\n",
            "WARNING:tensorflow:From /usr/local/lib/python3.6/dist-packages/keras/backend/tensorflow_backend.py:541: The name tf.placeholder is deprecated. Please use tf.compat.v1.placeholder instead.\n",
            "\n",
            "WARNING:tensorflow:From /usr/local/lib/python3.6/dist-packages/keras/backend/tensorflow_backend.py:4432: The name tf.random_uniform is deprecated. Please use tf.random.uniform instead.\n",
            "\n",
            "WARNING:tensorflow:From /usr/local/lib/python3.6/dist-packages/keras/backend/tensorflow_backend.py:190: The name tf.get_default_session is deprecated. Please use tf.compat.v1.get_default_session instead.\n",
            "\n",
            "WARNING:tensorflow:From /usr/local/lib/python3.6/dist-packages/keras/backend/tensorflow_backend.py:197: The name tf.ConfigProto is deprecated. Please use tf.compat.v1.ConfigProto instead.\n",
            "\n",
            "WARNING:tensorflow:From /usr/local/lib/python3.6/dist-packages/keras/backend/tensorflow_backend.py:203: The name tf.Session is deprecated. Please use tf.compat.v1.Session instead.\n",
            "\n",
            "WARNING:tensorflow:From /usr/local/lib/python3.6/dist-packages/keras/backend/tensorflow_backend.py:207: The name tf.global_variables is deprecated. Please use tf.compat.v1.global_variables instead.\n",
            "\n",
            "WARNING:tensorflow:From /usr/local/lib/python3.6/dist-packages/keras/backend/tensorflow_backend.py:216: The name tf.is_variable_initialized is deprecated. Please use tf.compat.v1.is_variable_initialized instead.\n",
            "\n",
            "WARNING:tensorflow:From /usr/local/lib/python3.6/dist-packages/keras/backend/tensorflow_backend.py:223: The name tf.variables_initializer is deprecated. Please use tf.compat.v1.variables_initializer instead.\n",
            "\n",
            "WARNING:tensorflow:From /usr/local/lib/python3.6/dist-packages/keras/backend/tensorflow_backend.py:2041: The name tf.nn.fused_batch_norm is deprecated. Please use tf.compat.v1.nn.fused_batch_norm instead.\n",
            "\n",
            "WARNING:tensorflow:From /usr/local/lib/python3.6/dist-packages/keras/backend/tensorflow_backend.py:148: The name tf.placeholder_with_default is deprecated. Please use tf.compat.v1.placeholder_with_default instead.\n",
            "\n",
            "WARNING:tensorflow:From /usr/local/lib/python3.6/dist-packages/keras/backend/tensorflow_backend.py:4267: The name tf.nn.max_pool is deprecated. Please use tf.nn.max_pool2d instead.\n",
            "\n",
            "WARNING:tensorflow:From /usr/local/lib/python3.6/dist-packages/keras/backend/tensorflow_backend.py:3733: calling dropout (from tensorflow.python.ops.nn_ops) with keep_prob is deprecated and will be removed in a future version.\n",
            "Instructions for updating:\n",
            "Please use `rate` instead of `keep_prob`. Rate should be set to `rate = 1 - keep_prob`.\n",
            "WARNING:tensorflow:From /usr/local/lib/python3.6/dist-packages/keras/optimizers.py:793: The name tf.train.Optimizer is deprecated. Please use tf.compat.v1.train.Optimizer instead.\n",
            "\n",
            "WARNING:tensorflow:From /usr/local/lib/python3.6/dist-packages/keras/backend/tensorflow_backend.py:3657: The name tf.log is deprecated. Please use tf.math.log instead.\n",
            "\n",
            "WARNING:tensorflow:From /tensorflow-1.15.2/python3.6/tensorflow_core/python/ops/nn_impl.py:183: where (from tensorflow.python.ops.array_ops) is deprecated and will be removed in a future version.\n",
            "Instructions for updating:\n",
            "Use tf.where in 2.0, which has the same broadcast rule as np.where\n"
          ],
          "name": "stdout"
        }
      ]
    },
    {
      "cell_type": "code",
      "metadata": {
        "id": "A7K88b-yuNZ1",
        "colab_type": "code",
        "outputId": "83cdb300-26aa-4f98-8b9d-f50ddde3e28d",
        "colab": {
          "base_uri": "https://localhost:8080/",
          "height": 283
        }
      },
      "source": [
        "hist0 = model.fit_generator(train_generator, \n",
        "                           validation_data=val_generator, \n",
        "                           epochs=5,\n",
        "                           steps_per_epoch=126//16,validation_steps=30//16,).history"
      ],
      "execution_count": 11,
      "outputs": [
        {
          "output_type": "stream",
          "text": [
            "WARNING:tensorflow:From /usr/local/lib/python3.6/dist-packages/keras/backend/tensorflow_backend.py:1033: The name tf.assign_add is deprecated. Please use tf.compat.v1.assign_add instead.\n",
            "\n",
            "WARNING:tensorflow:From /usr/local/lib/python3.6/dist-packages/keras/backend/tensorflow_backend.py:1020: The name tf.assign is deprecated. Please use tf.compat.v1.assign instead.\n",
            "\n",
            "Epoch 1/5\n",
            "7/7 [==============================] - 8s 1s/step - loss: 7.9992 - acc: 0.5000 - val_loss: 9.0170 - val_acc: 0.4375\n",
            "Epoch 2/5\n",
            "7/7 [==============================] - 5s 672ms/step - loss: 7.2979 - acc: 0.5447 - val_loss: 6.8701 - val_acc: 0.5714\n",
            "Epoch 3/5\n",
            "7/7 [==============================] - 6s 821ms/step - loss: 8.5876 - acc: 0.4643 - val_loss: 9.0170 - val_acc: 0.4375\n",
            "Epoch 4/5\n",
            "7/7 [==============================] - 5s 688ms/step - loss: 6.8290 - acc: 0.5740 - val_loss: 6.8701 - val_acc: 0.5714\n",
            "Epoch 5/5\n",
            "7/7 [==============================] - 6s 826ms/step - loss: 8.2841 - acc: 0.4832 - val_loss: 7.0132 - val_acc: 0.5625\n"
          ],
          "name": "stdout"
        }
      ]
    },
    {
      "cell_type": "markdown",
      "metadata": {
        "id": "Fhd58Huem-es",
        "colab_type": "text"
      },
      "source": [
        "# **Transfer Learning**\n",
        "\n",
        "\n",
        "1.   Tranfer Learning involves using models trained on large data sets such as Imagenets and transfer its knowledge to smaller data sets. Transfer learning is flexible, allowing the use of pre trained models directly as feature extraction preprocessing and integrating into entirely new models \n",
        "2.   The basic idea is convolution layers extracts general low level features that are applicable across all images such as edges, patterns etc and later layers identify specific features within an image \n",
        "\n"
      ]
    },
    {
      "cell_type": "code",
      "metadata": {
        "id": "LWYGjqELmfQO",
        "colab_type": "code",
        "colab": {}
      },
      "source": [
        "#cretae the base pre trained model\n",
        "base_model=InceptionV3(weights='imagenet',include_top=False)\n",
        "x=base_model.output\n",
        "#Add a Global Average Pooling Layer\n",
        "x=GlobalAveragePooling2D()(x)\n",
        "\n",
        "\n",
        "#Lets add a fully connected layer\n",
        "x=Dense(1024,activation='relu')(x)\n",
        "\n",
        "#Add a logistic layer  -- lets say we have two classes \n",
        "predictions=Dense(2,activation='sigmoid')(x)\n",
        "\n",
        "#Model we will train\n",
        "model=Model(inputs=base_model.input,outputs=predictions)\n",
        "\n",
        "\n",
        "#First only train the top layers which were randomly initialized \n",
        "#i.e freeze all convolutional InceptionV3 layers\n",
        "for layer in base_model.layers:\n",
        "  layer.trainable=False\n",
        "\n",
        "#Compile the model\n",
        "model.compile(loss='binary_crossentropy',metrics=['accuracy'],optimizer='adam')"
      ],
      "execution_count": 0,
      "outputs": []
    },
    {
      "cell_type": "code",
      "metadata": {
        "id": "romG3EL6qGQx",
        "colab_type": "code",
        "colab": {
          "base_uri": "https://localhost:8080/",
          "height": 263
        },
        "outputId": "997ab466-2a54-4888-e9f4-7c696821bff2"
      },
      "source": [
        "hist1 = model.fit_generator(train_generator, \n",
        "                           validation_data=val_generator, \n",
        "                           epochs=7,\n",
        "                           steps_per_epoch=126/16,validation_steps=30/16,).history"
      ],
      "execution_count": 28,
      "outputs": [
        {
          "output_type": "stream",
          "text": [
            "Epoch 1/7\n",
            "8/7 [==============================] - 7s 817ms/step - loss: 0.1548 - acc: 0.9374 - val_loss: 0.9626 - val_acc: 0.7000\n",
            "Epoch 2/7\n",
            "8/7 [==============================] - 6s 802ms/step - loss: 0.1477 - acc: 0.9296 - val_loss: 0.5457 - val_acc: 0.8167\n",
            "Epoch 3/7\n",
            "8/7 [==============================] - 6s 796ms/step - loss: 0.1131 - acc: 0.9687 - val_loss: 0.2749 - val_acc: 0.9333\n",
            "Epoch 4/7\n",
            "8/7 [==============================] - 6s 796ms/step - loss: 0.0945 - acc: 0.9570 - val_loss: 0.2395 - val_acc: 0.9667\n",
            "Epoch 5/7\n",
            "8/7 [==============================] - 6s 802ms/step - loss: 0.1284 - acc: 0.9442 - val_loss: 0.6105 - val_acc: 0.8000\n",
            "Epoch 6/7\n",
            "8/7 [==============================] - 6s 796ms/step - loss: 0.1083 - acc: 0.9628 - val_loss: 0.3320 - val_acc: 0.8667\n",
            "Epoch 7/7\n",
            "8/7 [==============================] - 6s 797ms/step - loss: 0.0499 - acc: 0.9922 - val_loss: 0.2393 - val_acc: 0.9500\n"
          ],
          "name": "stdout"
        }
      ]
    },
    {
      "cell_type": "code",
      "metadata": {
        "id": "9mNH4eLZxRep",
        "colab_type": "code",
        "colab": {}
      },
      "source": [
        "#save the weights\n",
        "model.save_weights(\"Covid19.h5\")"
      ],
      "execution_count": 0,
      "outputs": []
    }
  ]
}